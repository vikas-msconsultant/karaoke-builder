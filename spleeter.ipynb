{
  "cells": [
    {
      "cell_type": "markdown",
      "metadata": {
        "id": "K6mcSc0mmp3i"
      },
      "source": [
        "# Install spleeter"
      ]
    },
    {
      "cell_type": "code",
      "execution_count": null,
      "metadata": {
        "id": "f8Brdfh6mzEz",
        "collapsed": true
      },
      "outputs": [],
      "source": [
        "!apt install ffmpeg\n",
        "!apt install imagemagick\n",
        "!pip install virtualenv\n",
        "!virtualenv spleeter-env\n",
        "!virtualenv whisper-env\n"
      ]
    },
    {
      "cell_type": "markdown",
      "source": [
        "Install Spleeter in other venv"
      ],
      "metadata": {
        "id": "8_oLHxgC4vnQ"
      }
    },
    {
      "cell_type": "code",
      "execution_count": 4,
      "metadata": {
        "colab": {
          "base_uri": "https://localhost:8080/"
        },
        "id": "V_6Ram1lmc1F",
        "outputId": "072e2aac-d976-419c-9152-31d3adbfa5d1"
      },
      "outputs": [
        {
          "output_type": "stream",
          "name": "stdout",
          "text": [
            "/bin/bash: line 1: source: spleeter-env: is a directory\n"
          ]
        }
      ],
      "source": [
        "!source spleeter-env\n"
      ]
    },
    {
      "cell_type": "code",
      "source": [
        "pip install spleeter"
      ],
      "metadata": {
        "id": "rI2DId1Z7i5i"
      },
      "execution_count": null,
      "outputs": []
    },
    {
      "cell_type": "markdown",
      "source": [
        "Install Wisper in other Venv."
      ],
      "metadata": {
        "id": "kLofeODQ4zCw"
      }
    },
    {
      "cell_type": "code",
      "execution_count": 1,
      "metadata": {
        "id": "W0LktyMypXqE"
      },
      "outputs": [],
      "source": [
        "from IPython.display import Audio"
      ]
    },
    {
      "cell_type": "markdown",
      "metadata": {
        "id": "afbcUSken16L"
      },
      "source": [
        "# Separate from command line"
      ]
    },
    {
      "cell_type": "code",
      "execution_count": 2,
      "metadata": {
        "colab": {
          "base_uri": "https://localhost:8080/"
        },
        "id": "O1kQaoJSoAD0",
        "outputId": "b669b0d9-e0e2-4ae8-95f8-dc77a5ec9193",
        "collapsed": true
      },
      "outputs": [
        {
          "output_type": "stream",
          "name": "stdout",
          "text": [
            "--2025-05-21 08:22:36--  https://archive.org/download/caturnugra_gmail_Rock/01%20-%20I%20Want%20It%20That%20Way.mp3\n",
            "Resolving archive.org (archive.org)... 207.241.224.2\n",
            "Connecting to archive.org (archive.org)|207.241.224.2|:443... connected.\n",
            "HTTP request sent, awaiting response... 302 Found\n",
            "Location: https://ia800604.us.archive.org/12/items/caturnugra_gmail_Rock/01%20-%20I%20Want%20It%20That%20Way.mp3 [following]\n",
            "--2025-05-21 08:22:36--  https://ia800604.us.archive.org/12/items/caturnugra_gmail_Rock/01%20-%20I%20Want%20It%20That%20Way.mp3\n",
            "Resolving ia800604.us.archive.org (ia800604.us.archive.org)... 207.241.230.64\n",
            "Connecting to ia800604.us.archive.org (ia800604.us.archive.org)|207.241.230.64|:443... connected.\n",
            "HTTP request sent, awaiting response... 200 OK\n",
            "Length: 8747214 (8.3M) [audio/mpeg]\n",
            "Saving to: ‘song.mp3’\n",
            "\n",
            "song.mp3            100%[===================>]   8.34M  48.1MB/s    in 0.2s    \n",
            "\n",
            "2025-05-21 08:22:36 (48.1 MB/s) - ‘song.mp3’ saved [8747214/8747214]\n",
            "\n"
          ]
        }
      ],
      "source": [
        "# @title 🌴 Change the values in this section\n",
        "\n",
        "## @markdown Select the source of the audio/video file to be transcribed\n",
        "#input_format = \"youtube\" #@param [\"youtube\", \"gdrive\", \"local\"]\n",
        "\n",
        "# @markdown Enter the URL of the YouTube video or the path of the audio file to be transcribed\n",
        "file = \"https://archive.org/download/caturnugra_gmail_Rock/01%20-%20I%20Want%20It%20That%20Way.mp3\" #@param {type:\"string\"}\n",
        "!wget -O 'song.mp3' $file"
      ]
    },
    {
      "cell_type": "code",
      "execution_count": null,
      "metadata": {
        "id": "ibG6uF55p4lH"
      },
      "outputs": [],
      "source": [
        "Audio('song.mp3')"
      ]
    },
    {
      "cell_type": "code",
      "execution_count": null,
      "metadata": {
        "id": "kOAqBcPhn6IU",
        "collapsed": true
      },
      "outputs": [],
      "source": [
        "!spleeter separate --help"
      ]
    },
    {
      "cell_type": "code",
      "execution_count": null,
      "metadata": {
        "colab": {
          "base_uri": "https://localhost:8080/"
        },
        "id": "dGL-k5xxoKbu",
        "outputId": "794f652d-80f2-467c-ac5f-d667ff12317b"
      },
      "outputs": [
        {
          "output_type": "stream",
          "name": "stdout",
          "text": [
            "INFO:spleeter:Downloading model archive https://github.com/deezer/spleeter/releases/download/v1.4.0/2stems.tar.gz\n",
            "INFO:spleeter:Validating archive checksum\n",
            "INFO:spleeter:Extracting downloaded 2stems archive\n",
            "INFO:spleeter:2stems model file(s) extracted\n"
          ]
        }
      ],
      "source": [
        "!spleeter separate -o output/ 'song.mp3'"
      ]
    },
    {
      "cell_type": "code",
      "execution_count": null,
      "metadata": {
        "id": "IDuPWcAMoZP_"
      },
      "outputs": [],
      "source": [
        "!ls output/audio_example"
      ]
    },
    {
      "cell_type": "code",
      "execution_count": null,
      "metadata": {
        "id": "e7CHpyiloxrk"
      },
      "outputs": [],
      "source": [
        "Audio('output/song/vocals.wav')\n",
        "Audio('output/song/accompaniment.wav')"
      ]
    },
    {
      "cell_type": "code",
      "source": [
        "!source whisper-env\n",
        "# Fix for whisper + torch DispatchKey.Meta bug in Colab\n",
        "!pip uninstall -y torch torchvision torchaudio\n",
        "!pip install torch==2.0.1 torchvision==0.15.2 torchaudio==2.0.2\n",
        "!pip install -U openai-whisper\n"
      ],
      "metadata": {
        "id": "SfsuKAuE4lRH"
      },
      "execution_count": null,
      "outputs": []
    },
    {
      "cell_type": "code",
      "execution_count": null,
      "metadata": {
        "id": "ibXd-WCTpT0w"
      },
      "outputs": [],
      "source": [
        "import whisper\n",
        "import json\n",
        "\n",
        "model = whisper.load_model(\"base\")\n",
        "result = model.transcribe(\"output/song/vocals.wav\")\n",
        "\n",
        "with open(\"output/song/segments.json\", \"w\", encoding=\"utf-8\") as f:\n",
        "    json.dump(result[\"segments\"], f, indent=2)"
      ]
    },
    {
      "cell_type": "code",
      "source": [],
      "metadata": {
        "id": "0SL2k_Cs2g50"
      },
      "execution_count": null,
      "outputs": []
    },
    {
      "cell_type": "markdown",
      "source": [
        "Convert Song to Karaoke Video"
      ],
      "metadata": {
        "id": "eBR-DNrw2b96"
      }
    },
    {
      "cell_type": "code",
      "source": [
        "from moviepy.editor import AudioFileClip, ImageClip, CompositeVideoClip\n",
        "from PIL import Image, ImageDraw, ImageFont\n",
        "from moviepy.editor import ColorClip\n",
        "import os, json\n",
        "\n",
        "FONT_PATH = \"C:/Windows/Fonts/arial.ttf\"  # adjust for your OS\n",
        "FONT_SIZE = 48\n",
        "SCREEN_SIZE = (1280, 720)\n",
        "LINE_HEIGHT = 60\n",
        "FPS = 24\n",
        "\n",
        "def make_line_image(text, size=SCREEN_SIZE, highlight=False):\n",
        "    img = Image.new(\"RGBA\", size, (0, 0, 0, 255))\n",
        "    draw = ImageDraw.Draw(img)\n",
        "    font = ImageFont.truetype(FONT_PATH, FONT_SIZE)\n",
        "\n",
        "    color = (255, 255, 0, 255) if highlight else (255, 255, 255, 255)\n",
        "    bbox = draw.textbbox((0, 0), text, font=font)\n",
        "    text_width = bbox[2] - bbox[0]\n",
        "    x = (size[0] - text_width) // 2\n",
        "    y = size[1] - 150\n",
        "    draw.text((x, y), text, font=font, fill=color)\n",
        "\n",
        "    return img\n",
        "\n",
        "def main():\n",
        "    with open(\"segments.json\", \"r\", encoding=\"utf-8\") as f:\n",
        "        segments = json.load(f)\n",
        "\n",
        "    audio = AudioFileClip(\"instrumental.wav\")\n",
        "    #background = ImageClip(\"bg.jpg\").set_duration(audio.duration).resize(SCREEN_SIZE)\n",
        "    background = ColorClip(size=SCREEN_SIZE, color=(0, 0, 0)).set_duration(audio.duration)\n",
        "\n",
        "    clips = []\n",
        "    for i, seg in enumerate(segments):\n",
        "        img = make_line_image(seg[\"text\"], highlight=True)\n",
        "        fname = f\"_line_{i}.png\"\n",
        "        img.save(fname)\n",
        "\n",
        "        clip = ImageClip(fname).set_start(seg[\"start\"]).set_duration(seg[\"end\"] - seg[\"start\"]).fadein(0.3).fadeout(0.3)\n",
        "        clips.append(clip)\n",
        "\n",
        "    final = CompositeVideoClip([background] + clips).set_audio(audio).set_duration(audio.duration)\n",
        "    final.write_videofile(\"karaoke_fast.mp4\", fps=FPS)\n",
        "\n",
        "    for f in os.listdir():\n",
        "        if f.startswith(\"_line_\") and f.endswith(\".png\"):\n",
        "            os.remove(f)\n",
        "\n",
        "if __name__ == \"__main__\":\n",
        "    main()\n"
      ],
      "metadata": {
        "id": "ZViaAVjl2aXQ"
      },
      "execution_count": null,
      "outputs": []
    }
  ],
  "metadata": {
    "colab": {
      "name": "spleeter.ipynb",
      "provenance": [],
      "gpuType": "T4"
    },
    "kernelspec": {
      "display_name": "Python 3",
      "name": "python3"
    },
    "accelerator": "GPU"
  },
  "nbformat": 4,
  "nbformat_minor": 0
}