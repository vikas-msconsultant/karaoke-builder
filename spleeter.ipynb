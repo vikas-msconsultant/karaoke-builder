{
  "cells": [
    {
      "cell_type": "markdown",
      "metadata": {
        "id": "K6mcSc0mmp3i"
      },
      "source": [
        "# Install spleeter"
      ]
    },
    {
      "cell_type": "code",
      "execution_count": null,
      "metadata": {
        "id": "f8Brdfh6mzEz",
        "collapsed": true
      },
      "outputs": [],
      "source": [
        "!apt install ffmpeg\n",
        "!apt install imagemagick\n",
        "!pip install virtualenv\n",
        "!virtualenv spleeter-env\n",
        "!virtualenv whisper-env\n"
      ]
    },
    {
      "cell_type": "markdown",
      "source": [
        "Install Spleeter in other venv"
      ],
      "metadata": {
        "id": "8_oLHxgC4vnQ"
      }
    },
    {
      "cell_type": "code",
      "execution_count": null,
      "metadata": {
        "id": "V_6Ram1lmc1F"
      },
      "outputs": [],
      "source": [
        "!source spleeter-env\n"
      ]
    },
    {
      "cell_type": "code",
      "source": [
        "pip install spleeter"
      ],
      "metadata": {
        "id": "rI2DId1Z7i5i"
      },
      "execution_count": null,
      "outputs": []
    },
    {
      "cell_type": "markdown",
      "source": [
        "Install Wisper in other Venv."
      ],
      "metadata": {
        "id": "kLofeODQ4zCw"
      }
    },
    {
      "cell_type": "code",
      "execution_count": 3,
      "metadata": {
        "id": "W0LktyMypXqE"
      },
      "outputs": [],
      "source": [
        "from IPython.display import Audio"
      ]
    },
    {
      "cell_type": "markdown",
      "metadata": {
        "id": "afbcUSken16L"
      },
      "source": [
        "# Separate from command line"
      ]
    },
    {
      "cell_type": "code",
      "execution_count": null,
      "metadata": {
        "id": "O1kQaoJSoAD0",
        "collapsed": true
      },
      "outputs": [],
      "source": [
        "# @title 🌴 Change the values in this section\n",
        "\n",
        "## @markdown Select the source of the audio/video file to be transcribed\n",
        "#input_format = \"youtube\" #@param [\"youtube\", \"gdrive\", \"local\"]\n",
        "\n",
        "# https://hindi2.djpunjab.app/load/_YUa7Bq9EGGsRerDnJIktw==/Yamma%20Yamma%20\\(From%20Shaan\\).mp3\n",
        "\n",
        "# @markdown Enter the URL of the YouTube video or the path of the audio file to be transcribed\n",
        "file = \"https://hindi2.djpunjab.app/load/_YUa7Bq9EGGsRerDnJIktw==/Yamma%20Yamma%20\\\\(From%20Shaan\\\\).mp3\" #@param {type:\"string\"}\n",
        "!wget -O 'song.mp3' $file"
      ]
    },
    {
      "cell_type": "code",
      "execution_count": null,
      "metadata": {
        "id": "ibG6uF55p4lH"
      },
      "outputs": [],
      "source": [
        "Audio('song.mp3')"
      ]
    },
    {
      "cell_type": "code",
      "execution_count": null,
      "metadata": {
        "id": "kOAqBcPhn6IU",
        "collapsed": true
      },
      "outputs": [],
      "source": [
        "!spleeter separate --help"
      ]
    },
    {
      "cell_type": "code",
      "execution_count": null,
      "metadata": {
        "id": "dGL-k5xxoKbu"
      },
      "outputs": [],
      "source": [
        "!spleeter separate -o output/ 'song.mp3'"
      ]
    },
    {
      "cell_type": "code",
      "execution_count": null,
      "metadata": {
        "id": "IDuPWcAMoZP_"
      },
      "outputs": [],
      "source": [
        "!ls output/song"
      ]
    },
    {
      "cell_type": "code",
      "execution_count": null,
      "metadata": {
        "id": "e7CHpyiloxrk"
      },
      "outputs": [],
      "source": [
        "#Audio('output/song/vocals.wav')\n",
        "Audio('output/song/accompaniment.wav')"
      ]
    },
    {
      "cell_type": "code",
      "source": [
        "!source whisper-env\n",
        "# Fix for whisper + torch DispatchKey.Meta bug in Colab\n",
        "!pip uninstall -y torch torchvision torchaudio\n",
        "!pip install torch==2.0.1 torchvision==0.15.2 torchaudio==2.0.2\n",
        "!pip install -U openai-whisper\n"
      ],
      "metadata": {
        "collapsed": true,
        "id": "SfsuKAuE4lRH"
      },
      "execution_count": null,
      "outputs": []
    },
    {
      "cell_type": "code",
      "source": [
        "!source whisper-env"
      ],
      "metadata": {
        "collapsed": true,
        "id": "N7GdDaTnPxHa"
      },
      "execution_count": null,
      "outputs": []
    },
    {
      "cell_type": "code",
      "execution_count": null,
      "metadata": {
        "id": "ibXd-WCTpT0w"
      },
      "outputs": [],
      "source": [
        "import whisper\n",
        "import json\n",
        "import gc\n",
        "import torch\n",
        "\n",
        "model = whisper.load_model(\"medium\") # base, small, medium, large\n",
        "result = model.transcribe(\"output/song/vocals.wav\", language='HI')\n",
        "print(result[\"language\"]) # correct language detected i.e \"ml\"\n",
        "print(result[\"text\"]) # text is in a different language\n",
        "with open(\"output/song/segments.json\", \"w\", encoding=\"utf-8\") as f:\n",
        "    json.dump(result[\"segments\"], f, indent=3)\n",
        "\n",
        "# Now release memory\n",
        "del model\n",
        "del result\n",
        "gc.collect()\n",
        "if torch.cuda.is_available():\n",
        "    torch.cuda.empty_cache()"
      ]
    },
    {
      "cell_type": "code",
      "source": [
        "!ls /usr/share/fonts/truetype/noto/\n"
      ],
      "metadata": {
        "id": "0SL2k_Cs2g50"
      },
      "execution_count": null,
      "outputs": []
    },
    {
      "cell_type": "markdown",
      "source": [
        "Convert Song to Karaoke Video"
      ],
      "metadata": {
        "id": "eBR-DNrw2b96"
      }
    },
    {
      "cell_type": "code",
      "source": [
        "from moviepy.editor import AudioFileClip, ImageClip, CompositeVideoClip\n",
        "from PIL import Image, ImageDraw, ImageFont\n",
        "from moviepy.editor import ColorClip\n",
        "import os, json\n",
        "\n",
        "FONT_Roman = '/usr/share/fonts/truetype/noto/NotoSansMono-Regular.ttf'\n",
        "FONT_PATH = \"Mangal Regular.ttf\"  # adjust for your OS\n",
        "FONT_SIZE = 48\n",
        "SCREEN_SIZE = (1280, 720)\n",
        "LINE_HEIGHT = 60\n",
        "FPS = 12\n",
        "segmentFile = 'output/song/segments.json'\n",
        "intrumentFile= 'output/song/accompaniment.wav'\n",
        "def make_line_image(text, roman, size=SCREEN_SIZE, highlight=False):\n",
        "    img = Image.new(\"RGBA\", size, (0, 0, 0, 255))\n",
        "    draw = ImageDraw.Draw(img)\n",
        "    font = ImageFont.truetype(FONT_PATH, FONT_SIZE)\n",
        "    romanFont = ImageFont.truetype(FONT_Roman, FONT_SIZE)\n",
        "\n",
        "    color = (255, 255, 0, 255) if highlight else (255, 255, 255, 255)\n",
        "    bbox = draw.textbbox((0, 0), text, font=font)\n",
        "    text_width = bbox[2] - bbox[0]\n",
        "    x = (size[0] - text_width) // 2\n",
        "    y = size[1] - 150\n",
        "    draw.text((x, y), text, font=font, fill=color)\n",
        "\n",
        "    draw.text((x, size[1]- 400), roman, font=romanFont, fill=color)\n",
        "\n",
        "    return img\n",
        "\n",
        "def main():\n",
        "    with open(segmentFile, \"r\", encoding=\"utf-8\") as f:\n",
        "        segments = json.load(f)\n",
        "\n",
        "    audio = AudioFileClip(intrumentFile)\n",
        "    #background = ImageClip(\"bg.jpg\").set_duration(audio.duration).resize(SCREEN_SIZE)\n",
        "    background = ColorClip(size=SCREEN_SIZE, color=(0, 0, 0)).set_duration(audio.duration)\n",
        "\n",
        "    clips = []\n",
        "    for i, seg in enumerate(segments):\n",
        "\n",
        "        roman = transliterate(seg[\"text\"], DEVANAGARI, ITRANS)\n",
        "        img = make_line_image(seg[\"text\"], roman, highlight=True)\n",
        "        fname = f\"_line_{i}.png\"\n",
        "        img.save(fname)\n",
        "\n",
        "        clip = ImageClip(fname).set_start(seg[\"start\"]).set_duration(seg[\"end\"] - seg[\"start\"]).fadein(0.3).fadeout(0.3)\n",
        "        clips.append(clip)\n",
        "\n",
        "    final = CompositeVideoClip([background] + clips).set_audio(audio).set_duration(audio.duration)\n",
        "    final.write_videofile(\"output/song/karaoke_fast.mp4\", fps=FPS)\n",
        "\n",
        "    for f in os.listdir():\n",
        "        if f.startswith(\"_line_\") and f.endswith(\".png\"):\n",
        "            os.remove(f)\n",
        "\n",
        "if __name__ == \"__main__\":\n",
        "    main()\n"
      ],
      "metadata": {
        "collapsed": true,
        "id": "ZViaAVjl2aXQ"
      },
      "execution_count": null,
      "outputs": []
    },
    {
      "cell_type": "code",
      "source": [
        "!pip install indic-transliteration"
      ],
      "metadata": {
        "id": "Ellc_TTofnP-"
      },
      "execution_count": null,
      "outputs": []
    },
    {
      "cell_type": "code",
      "source": [
        "from indic_transliteration.sanscript import transliterate, DEVANAGARI, ITRANS\n",
        "import os, json\n",
        "\n",
        "segmentFile = 'output/song/segments.json'\n",
        "with open(segmentFile, \"r\", encoding=\"utf-8\") as f:\n",
        "        segments = json.load(f)\n",
        "for i, seg in enumerate(segments):\n",
        "  dev_text = seg[\"text\"]\n",
        "  roman = transliterate(dev_text, DEVANAGARI, ITRANS)\n",
        "  print(dev_text + ' : ' + roman)  # Outputs: \"tum kya kar rahe ho\""
      ],
      "metadata": {
        "id": "AAwdSVhgfpgc"
      },
      "execution_count": null,
      "outputs": []
    }
  ],
  "metadata": {
    "colab": {
      "name": "spleeter.ipynb",
      "provenance": [],
      "gpuType": "T4"
    },
    "kernelspec": {
      "display_name": "Python 3",
      "name": "python3"
    },
    "accelerator": "GPU"
  },
  "nbformat": 4,
  "nbformat_minor": 0
}